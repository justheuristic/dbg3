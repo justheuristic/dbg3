{
 "cells": [
  {
   "cell_type": "code",
   "execution_count": 6,
   "metadata": {
    "scrolled": true
   },
   "outputs": [],
   "source": [
    "from lib.models import AlbertConfig, LeanAlbertForPreTraining"
   ]
  },
  {
   "cell_type": "code",
   "execution_count": 2,
   "metadata": {},
   "outputs": [],
   "source": [
    "config = AlbertConfig.from_dict({\n",
    "  \"architectures\": [\n",
    "    \"AlbertForMaskedLM\"\n",
    "  ],\n",
    "  \"attention_probs_dropout_prob\": 0,\n",
    "  \"bos_token_id\": 2,\n",
    "  \"classifier_dropout_prob\": 0.1,\n",
    "  \"down_scale_factor\": 1,\n",
    "  \"embedding_size\": 128,\n",
    "  \"eos_token_id\": 3,\n",
    "  \"gap_size\": 0,\n",
    "  \"hidden_act\": \"gelu_new\",\n",
    "  \"hidden_dropout_prob\": 0,\n",
    "  \"hidden_size\": 4096,\n",
    "  \"initializer_range\": 0.02,\n",
    "  \"inner_group_num\": 1,\n",
    "  \"intermediate_size\": 16384,\n",
    "  \"layer_norm_eps\": 1e-12,\n",
    "  \"layers_to_keep\": [],\n",
    "  \"max_position_embeddings\": 512,\n",
    "  \"model_type\": \"albert\",\n",
    "  \"net_structure_type\": 0,\n",
    "  \"num_attention_heads\": 64,\n",
    "  \"num_hidden_groups\": 1,\n",
    "  \"num_hidden_layers\": 12,\n",
    "  \"num_memory_blocks\": 0,\n",
    "  \"pad_token_id\": 0,\n",
    "  \"type_vocab_size\": 2,\n",
    "  \"vocab_size\": 30000\n",
    "})"
   ]
  },
  {
   "cell_type": "code",
   "execution_count": 4,
   "metadata": {},
   "outputs": [],
   "source": [
    "model = LeanAlbertForPreTraining(config)"
   ]
  },
  {
   "cell_type": "code",
   "execution_count": null,
   "metadata": {},
   "outputs": [],
   "source": [
    "model()"
   ]
  }
 ],
 "metadata": {
  "kernelspec": {
   "display_name": "Python 3",
   "language": "python",
   "name": "python3"
  },
  "language_info": {
   "codemirror_mode": {
    "name": "ipython",
    "version": 3
   },
   "file_extension": ".py",
   "mimetype": "text/x-python",
   "name": "python",
   "nbconvert_exporter": "python",
   "pygments_lexer": "ipython3",
   "version": "3.6.10"
  }
 },
 "nbformat": 4,
 "nbformat_minor": 2
}
